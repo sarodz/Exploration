{
 "cells": [
  {
   "cell_type": "markdown",
   "metadata": {},
   "source": [
    "# Google Trend Prediction\n",
    "\n",
    "This notebook is created when learning PyTorch. I have used the Google Trend results for the word diet as my toy example."
   ]
  },
  {
   "cell_type": "code",
   "execution_count": 1,
   "metadata": {},
   "outputs": [
    {
     "data": {
      "image/png": "[encoded data removed]",
      "text/plain": [
       "<matplotlib.figure.Figure at 0x1be67023e10>"
      ]
     },
     "metadata": {},
     "output_type": "display_data"
    }
   ],
   "source": [
    "from pytrends.request import TrendReq\n",
    "import pandas as pd\n",
    "import matplotlib.pyplot as plt\n",
    "\n",
    "keyword = 'diet'\n",
    "pytrend = TrendReq(hl='de-CH')\n",
    "\n",
    "# To dowloand it from internet, I have saved a local copy \n",
    "#pytrend.build_payload(kw_list=[keyword], timeframe='all')\n",
    "#df = pytrend.interest_over_time()\n",
    "\n",
    "df = pd.read_csv('./diet.csv', names=['date', 'diet'])\n",
    "df = df[2:]\n",
    "df.diet = df.diet.astype('int64')\n",
    "df.date = pd.to_datetime(df.date)\n",
    "df = df.set_index('date')\n",
    "df2 = df[5:]\n",
    "\n",
    "df2.plot()\n",
    "plt.show()"
   ]
  },
  {
   "cell_type": "markdown",
   "metadata": {},
   "source": [
    "We can observe the cylical nature of the dataset. Let's see how NNs will perform."
   ]
  },
  {
   "cell_type": "markdown",
   "metadata": {},
   "source": [
    "# Preprocessing\n",
    "\n",
    "Preparing the data for NN"
   ]
  },
  {
   "cell_type": "code",
   "execution_count": 2,
   "metadata": {
    "collapsed": true
   },
   "outputs": [],
   "source": [
    "import pandas as pd\n",
    "import numpy as np\n",
    "import torch.utils.data as data\n",
    "import torch.nn as nn\n",
    "import torch.nn.functional as F\n",
    "import torch.optim as optim\n",
    "import math\n",
    "import torch\n",
    "device = torch.device('cuda:0' if torch.cuda.is_available() else 'cpu')\n",
    "\n",
    "lag = 5\n",
    "pre_raw = df2.copy()\n",
    "\n",
    "for i in range(1, lag+1):\n",
    "    name = 'lag'+str(i)\n",
    "    pre_raw.insert(loc=i, column = name, value = pre_raw.diet.shift(i))\n",
    "\n",
    "pre_raw.insert(loc=lag+1, column= 'nextDay', value= pre_raw.diet.shift(-1))\n",
    "pre_raw = pre_raw[lag:]\n",
    "pre_raw = pre_raw[:-1]\n",
    "pre_raw = pre_raw.reset_index(drop=True)\n",
    "raw = pre_raw.iloc[:,0:lag+2].copy()\n",
    "raw = [(torch.from_numpy(raw.iloc[i,0:lag+1].values), \n",
    "        torch.from_numpy(raw.iloc[i,[lag+1]].values)) for i in range(len(raw))]"
   ]
  },
  {
   "cell_type": "markdown",
   "metadata": {},
   "source": [
    "# Models\n",
    "\n",
    "In this notebook, I have explored a fully connected network and a convolutional network. To compare the results, I have created an experiment function which trains the model and evaluates its perfromance. I will repeat each experiment 30 times to minimize the impact of random initializations on the results."
   ]
  },
  {
   "cell_type": "code",
   "execution_count": 3,
   "metadata": {
    "collapsed": true
   },
   "outputs": [],
   "source": [
    "class SimpleNet(nn.Module):\n",
    "    def __init__(self, input_len=6):\n",
    "        super().__init__()\n",
    "        self.l1 = nn.Linear(input_len, 20)\n",
    "        self.l2 = nn.Linear(20, 15)\n",
    "        self.l3 = nn.Linear(15, 1)\n",
    "        \n",
    "    def forward(self, x):\n",
    "        output = self.l1(x)\n",
    "        output = F.relu(output)\n",
    "        output = self.l2(output)\n",
    "        output = F.relu(output)\n",
    "        output = self.l3(output)\n",
    "        return output"
   ]
  },
  {
   "cell_type": "markdown",
   "metadata": {},
   "source": [
    "When using the input as it is, other activation functions (tanh, sigmoid) explode. Batchnorm has resolved this issue but the results are not better then this version. Hence it is not included."
   ]
  },
  {
   "cell_type": "code",
   "execution_count": 4,
   "metadata": {
    "collapsed": true
   },
   "outputs": [],
   "source": [
    "class ConvNet(nn.Module):\n",
    "    def __init__(self, layers, kernelSize = 5, stride=2):\n",
    "        super().__init__()\n",
    "        self.layers = nn.ModuleList([\n",
    "            nn.Conv1d(layers[i], layers[i + 1], kernel_size=kernelSize, stride=stride)\n",
    "            for i in range(len(layers) - 1)])\n",
    "        self.pool = nn.AdaptiveMaxPool1d(1)\n",
    "        self.out = nn.Linear(layers[-1], 1)\n",
    "        \n",
    "    def forward(self, x):\n",
    "        for l in self.layers: x = F.relu(l(x.unsqueeze_(-1).transpose(2, 1)))\n",
    "        x = self.pool(x)\n",
    "        x = x.view(x.size(0), -1)\n",
    "        return self.out(x)"
   ]
  },
  {
   "cell_type": "code",
   "execution_count": 5,
   "metadata": {
    "collapsed": true
   },
   "outputs": [],
   "source": [
    "def experiment(lag, model, train_loader, test_loader, opt, loss):\n",
    "    # train\n",
    "    for epoch in range(num_epochs):\n",
    "        running_loss = 0.0\n",
    "        tot = 0\n",
    "        for i, (x, y) in enumerate(train_loader):\n",
    "            x = x.float().to(device)\n",
    "            y = y.float().to(device)\n",
    "\n",
    "            # Forward pass\n",
    "            output = model(x)\n",
    "            l = loss(output, y)\n",
    "\n",
    "            # Backward and optimize\n",
    "            opt.zero_grad()\n",
    "            l.backward()\n",
    "            opt.step()\n",
    "        \n",
    "            running_loss += l.item()\n",
    "            tot += 1\n",
    "        #print('[%d, %5d] loss: %.3f' % (epoch + 1, i + 1, running_loss/tot  ))\n",
    "\n",
    "    names = ['diet']\n",
    "    names.extend(['lag'+str(i) for i in range(1, lag+1)])\n",
    "    names.extend(['prediction', 'actual'])\n",
    "\n",
    "    result = pd.DataFrame(columns=names)\n",
    "    model.eval()  # eval mode (batchnorm uses moving mean/variance instead of mini-batch mean/variance)\n",
    "    with torch.no_grad():\n",
    "        correct = 0\n",
    "        total = 0\n",
    "        for x, y in test_loader:\n",
    "            x = x.float().to(device)\n",
    "            local = x.cpu().numpy()\n",
    "            y = y.float().to(device)            \n",
    "            outputs = model(x)\n",
    "\n",
    "            temp = pd.DataFrame(columns=names)\n",
    "            temp['diet'] = local[:,0]\n",
    "            for i in range(1, lag+1):\n",
    "                name = 'lag'+str(i)\n",
    "                temp[name] = local[:,i]\n",
    "\n",
    "            temp['actual'] = y.cpu().numpy()\n",
    "            temp['prediction'] = outputs.cpu().numpy()\n",
    "            result = result.append(temp)\n",
    "    return(result)        "
   ]
  },
  {
   "cell_type": "code",
   "execution_count": 6,
   "metadata": {},
   "outputs": [],
   "source": [
    "num_epochs=20\n",
    "batch_size=25\n",
    "learning_rate=0.04\n",
    "repeat = 30\n",
    "results = pd.DataFrame(columns=['FC', 'CONV'])\n",
    "train_loader = data.DataLoader(dataset=raw[0:120], batch_size=batch_size, shuffle=True)\n",
    "test_loader = data.DataLoader(dataset=raw[120:170], batch_size=1, shuffle=False)\n",
    "\n",
    "for i in range(repeat):\n",
    "    temp = pd.DataFrame(columns=['FC', 'CONV'])\n",
    "    \n",
    "    net = SimpleNet(input_len=lag+1).to(device)\n",
    "    opt=optim.Adam(net.parameters(), lr=learning_rate)\n",
    "    loss=F.mse_loss\n",
    "    \n",
    "    out = experiment(lag= lag, \n",
    "               model=net, \n",
    "               train_loader=train_loader, \n",
    "               test_loader=test_loader, \n",
    "               opt=opt, \n",
    "               loss=loss)\n",
    "    \n",
    "    temp.loc[0] = [np.mean(abs(out.prediction - out.actual)), None]\n",
    "    results = results.append(temp)\n",
    "\n",
    "results = results.reset_index(drop=True);"
   ]
  },
  {
   "cell_type": "code",
   "execution_count": 7,
   "metadata": {},
   "outputs": [],
   "source": [
    "num_epochs=20\n",
    "batch_size=25\n",
    "learning_rate=0.04\n",
    "train_loader = data.DataLoader(dataset=raw[0:120], batch_size=batch_size, shuffle=True)\n",
    "test_loader = data.DataLoader(dataset=raw[120:170], batch_size=1, shuffle=False)\n",
    "\n",
    "for i in range(repeat):\n",
    "    temp = pd.DataFrame(columns=['FC', 'CONV'])\n",
    "    \n",
    "    net = ConvNet([1, 10], kernelSize= 2, stride=2).to(device)\n",
    "    opt=optim.Adam(net.parameters(), lr=learning_rate)\n",
    "    loss=F.mse_loss\n",
    "    \n",
    "    out = experiment(lag= lag, \n",
    "               model=net, \n",
    "               train_loader=train_loader, \n",
    "               test_loader=test_loader, \n",
    "               opt=opt, \n",
    "               loss=loss)\n",
    "    \n",
    "    results.CONV[i] = np.mean(abs(out.prediction - out.actual))"
   ]
  },
  {
   "cell_type": "code",
   "execution_count": 8,
   "metadata": {},
   "outputs": [
    {
     "data": {
      "image/png": "[encoded data removed]",
      "text/plain": [
       "<matplotlib.figure.Figure at 0x1be69ae9cf8>"
      ]
     },
     "metadata": {},
     "output_type": "display_data"
    }
   ],
   "source": [
    "results.boxplot()\n",
    "plt.show()"
   ]
  },
  {
   "cell_type": "code",
   "execution_count": 9,
   "metadata": {},
   "outputs": [
    {
     "data": {
      "text/plain": [
       "Ttest_indResult(statistic=8.0404990577837712, pvalue=5.2386641314794134e-11)"
      ]
     },
     "execution_count": 9,
     "metadata": {},
     "output_type": "execute_result"
    }
   ],
   "source": [
    "import scipy.stats\n",
    "scipy.stats.ttest_ind(results.FC, results.CONV)"
   ]
  },
  {
   "cell_type": "markdown",
   "metadata": {},
   "source": [
    "The t-test tells us the true mean of both results are statistically different and the boxplot visually confirms that this difference is better in terms of a lower RMSE. This result is not suprising because by using random convolutions we enhance the input space allowing the model to discover patterns that might not be easily learnable by a fully connected network.  "
   ]
  },
  {
   "cell_type": "markdown",
   "metadata": {},
   "source": [
    "# Next Steps\n",
    "\n",
    "In the next iteration of this notebook, I will look into following models/improvements:\n",
    "* Recurrent Neural Networks (with and without LSTM)\n",
    "* Enhance CNN using Residuals\n",
    "* Incorporating embeddings into fully connected network to teach seasonal patterns"
   ]
  }
 ],
 "metadata": {
  "kernelspec": {
   "display_name": "Python 3",
   "language": "python",
   "name": "python3"
  },
  "language_info": {
   "codemirror_mode": {
    "name": "ipython",
    "version": 3
   },
   "file_extension": ".py",
   "mimetype": "text/x-python",
   "name": "python",
   "nbconvert_exporter": "python",
   "pygments_lexer": "ipython3",
   "version": "3.6.5"
  }
 },
 "nbformat": 4,
 "nbformat_minor": 2
}
