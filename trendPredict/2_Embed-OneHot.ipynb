{
 "cells": [
  {
   "cell_type": "markdown",
   "metadata": {},
   "source": [
    "# Google Trend Prediction: Enhancing Input Space with Seasons\n",
    "\n",
    "In this notebook, I have attempted to improve the performances of a vanilla Fully-Connected Neural Network (FCNN) by allowing the model to learn the seasons. I have used one-hot encoding and embedding to convert the seasons into numbers. This notebook also uses the Google Trend results for the word *diet*."
   ]
  },
  {
   "cell_type": "code",
   "execution_count": 1,
   "metadata": {},
   "outputs": [
    {
     "data": {
      "text/plain": [
       "<matplotlib.figure.Figure at 0x29243a25e80>"
      ]
     },
     "metadata": {},
     "output_type": "display_data"
    }
   ],
   "source": [
    "# Readers interested in dowloanding the dataset from the internet can use the pytrends library\n",
    "\n",
    "import pandas as pd\n",
    "import matplotlib.pyplot as plt\n",
    "\n",
    "df = pd.read_csv('./diet.csv', names=['date', 'diet'])\n",
    "df = df[2:]\n",
    "df.diet = df.diet.astype('int64')\n",
    "df.date = pd.to_datetime(df.date)\n",
    "df = df.set_index('date')\n",
    "df2 = df[5:]\n",
    "\n",
    "df2.plot()\n",
    "plt.show()"
   ]
  },
  {
   "cell_type": "markdown",
   "metadata": {},
   "source": [
    "# Preprocessing\n",
    "\n",
    "Each version of the NN requires a different input space. Hence, I have introduced the *enrichMode* parameter in the *prep* function, which allows the user to enrich the input space for embedding and one hot encoding purposes. The current implementation is specificly designed for incorporating season information. When this option is not specified, the function only uses the past data in the input space. \n",
    "\n",
    "Any custom function implemented in this notebook can be accessed from the NeuralNetworks.py file accompanying this notebook. "
   ]
  },
  {
   "cell_type": "code",
   "execution_count": 2,
   "metadata": {},
   "outputs": [],
   "source": [
    "import NeuralNetworks\n",
    "import importlib\n",
    "importlib.reload(NeuralNetworks);\n",
    "\n",
    "preperation = NeuralNetworks.Preprocessing(data=df2)\n",
    "raw1 = preperation.prep(previous=5, future=1, normalize='minmax')"
   ]
  },
  {
   "cell_type": "code",
   "execution_count": 3,
   "metadata": {},
   "outputs": [
    {
     "data": {
      "text/plain": [
       "(tensor([ 0.7073,  0.5854,  0.3902,  0.3659,  0.3171,  0.2927], dtype=torch.float64),\n",
       " tensor([ 0.1707], dtype=torch.float64))"
      ]
     },
     "execution_count": 3,
     "metadata": {},
     "output_type": "execute_result"
    }
   ],
   "source": [
    "raw1[0]"
   ]
  },
  {
   "cell_type": "markdown",
   "metadata": {},
   "source": [
    "For embedding purposes, I have encoded winter as 0, spring as 1, summer as 2 and fall as 3. The below example is from summer."
   ]
  },
  {
   "cell_type": "code",
   "execution_count": 4,
   "metadata": {},
   "outputs": [],
   "source": [
    "raw2 = preperation.prep(previous=5, future=1, enrichMode= 'embedding', normalize='minmax')"
   ]
  },
  {
   "cell_type": "code",
   "execution_count": 5,
   "metadata": {},
   "outputs": [
    {
     "data": {
      "text/plain": [
       "(tensor([ 0.7073,  0.5854,  0.3902,  0.3659,  0.3171,  0.2927,  2.0000], dtype=torch.float64),\n",
       " tensor([ 0.1707], dtype=torch.float64))"
      ]
     },
     "execution_count": 5,
     "metadata": {},
     "output_type": "execute_result"
    }
   ],
   "source": [
    "raw2[0]"
   ]
  },
  {
   "cell_type": "markdown",
   "metadata": {},
   "source": [
    "The below dataset contains the one-hot encoding of the seasons. Each observation has 4 new variables which are either 0 or 1. For example, in the below example the third variable is 1 since it represents summer.    "
   ]
  },
  {
   "cell_type": "code",
   "execution_count": 6,
   "metadata": {},
   "outputs": [],
   "source": [
    "raw3 = preperation.prep(previous=5, future=1, enrichMode= 'one-hot', normalize='minmax')"
   ]
  },
  {
   "cell_type": "code",
   "execution_count": 7,
   "metadata": {},
   "outputs": [
    {
     "data": {
      "text/plain": [
       "(tensor([ 0.7073,  0.5854,  0.3902,  0.3659,  0.3171,  0.2927,  0.0000,\n",
       "          0.0000,  1.0000,  0.0000], dtype=torch.float64),\n",
       " tensor([ 0.1707], dtype=torch.float64))"
      ]
     },
     "execution_count": 7,
     "metadata": {},
     "output_type": "execute_result"
    }
   ],
   "source": [
    "raw3[0]"
   ]
  },
  {
   "cell_type": "markdown",
   "metadata": {},
   "source": [
    "# Models\n",
    "\n",
    "All of the models in this notebook use FCNN. The only difference between the models is I include seasonal information in the input space and I choose two different ways to achieve this. PyTorch's embedding function behaves like a look up table and returns values between -1 and 1 that are learned while training the model. These *latent variables* represent seasons in this dataset.\n",
    "\n",
    "The architecture of the models is as following:\n",
    "- **FCNN**: It has 6 input units, 20 and 15 hidden units in the first and second hidden layers and 1 output unit. This model is implemented by the *FCNet* function.  \n",
    "- **FCNN with one-hot**: It has 10 input units (6 for the past observations, 4 for the one-hot encoding), 30 hidden units in two hidden layers and 1 output unit. This model also uses the *FCNet* function.  \n",
    "- **FCNN with embedding**: It has 8 input units (6 for the past observations, 2 for the latent variables), 30 hidden units in the first hidden layer, 40 hidden units in the second hidden layer and 1 output unit. This model uses the *FCNetEmbed* function. \n",
    "\n",
    "I have experimented with different hyperparameters such as the number of hidden units, the activation function of the hidden layers, batch size and the learning rate to build a model with the strongest results. These experimentations are omitted from this notebook. I have found that using a different learning rate for each model improved the results.  \n",
    "\n",
    "To compare the performance of these models, I will repeat training and prediction 50 times to minimize the impact of random initializations on the results."
   ]
  },
  {
   "cell_type": "markdown",
   "metadata": {},
   "source": [
    "# Results"
   ]
  },
  {
   "cell_type": "code",
   "execution_count": 8,
   "metadata": {},
   "outputs": [],
   "source": [
    "import torch.nn.functional as F\n",
    "import torch.utils.data as data\n",
    "import torch.optim as optim\n",
    "import numpy as np\n",
    "\n",
    "inputSize = 6\n",
    "num_epochs=60\n",
    "batch_size=36\n",
    "repeat = 50\n",
    "results = pd.DataFrame(columns=['FCNN', 'HOT', 'EMBED'])\n",
    "\n",
    "loss=F.mse_loss\n",
    "\n",
    "for i in range(repeat):\n",
    "    temp = pd.DataFrame(np.nan, index=[0], columns=['FCNN', 'HOT', 'EMBED'])\n",
    "    \n",
    "    FCNN = NeuralNetworks.FCNet(units=[inputSize, 20, 15, 1], activation=F.tanh)\n",
    "    HOT = NeuralNetworks.FCNet(units=[inputSize+4, 30, 30, 1], activation=F.tanh)\n",
    "    EMBED = NeuralNetworks.FCNetEmbed(cont_idx=list(range(0,inputSize)), cat_idx=[inputSize], activation=F.tanh, \n",
    "                                      embed_detail=[(4,2)], units=[inputSize+2, 30, 40, 1])\n",
    "    \n",
    "    for idx, (model, dat, lr) in enumerate([(FCNN, raw1, 0.05), (HOT, raw3, 0.02), (EMBED, raw2, 0.01)]):\n",
    "        train_loader = data.DataLoader(dataset=dat[0:120], batch_size=batch_size, shuffle=False)\n",
    "        test_loader = data.DataLoader(dataset=dat[120:170], batch_size=1, shuffle=False)\n",
    "        \n",
    "        Processing = NeuralNetworks.Processing(model=model, epochs = num_epochs, \n",
    "                                                opt = optim.Adam(model.parameters(), lr=lr), loss=loss)\n",
    "        Processing.train(train_loader=train_loader)\n",
    "        \n",
    "        _, rmse = Processing.test(test_loader=test_loader)\n",
    "        \n",
    "        temp.iloc[0, idx] = rmse\n",
    "    \n",
    "    results = results.append(temp)\n",
    "\n",
    "results = results.reset_index(drop=True);"
   ]
  },
  {
   "cell_type": "markdown",
   "metadata": {},
   "source": [
    "Below values are the mean RMSE for vanilla, one-hot encoding and embedding FCNN. It seems adding the season information does not improve the results."
   ]
  },
  {
   "cell_type": "code",
   "execution_count": 9,
   "metadata": {},
   "outputs": [
    {
     "data": {
      "text/plain": [
       "[0.1823045255971868, 0.14338438845837403, 0.14485429415785103]"
      ]
     },
     "execution_count": 9,
     "metadata": {},
     "output_type": "execute_result"
    }
   ],
   "source": [
    "[x**0.5 for x in results.mean()] "
   ]
  },
  {
   "cell_type": "code",
   "execution_count": 10,
   "metadata": {},
   "outputs": [
    {
     "data": {
      "image/png": "[encoded data removed]",
      "text/plain": [
       "<matplotlib.figure.Figure at 0x2923bdaeac8>"
      ]
     },
     "metadata": {},
     "output_type": "display_data"
    }
   ],
   "source": [
    "results.boxplot(showfliers=False)\n",
    "plt.show()"
   ]
  },
  {
   "cell_type": "code",
   "execution_count": 11,
   "metadata": {},
   "outputs": [
    {
     "data": {
      "image/png": "[encoded data removed]",
      "text/plain": [
       "<matplotlib.figure.Figure at 0x2924740ae80>"
      ]
     },
     "metadata": {},
     "output_type": "display_data"
    }
   ],
   "source": [
    "results.loc[:,['HOT', 'EMBED']].boxplot(showfliers=False)\n",
    "plt.show()"
   ]
  },
  {
   "cell_type": "code",
   "execution_count": 12,
   "metadata": {},
   "outputs": [
    {
     "name": "stdout",
     "output_type": "stream",
     "text": [
      "Ttest_indResult(statistic=13.323404607790922, pvalue=1.0032644980229774e-23)\n",
      "Ttest_indResult(statistic=12.882149356613025, pvalue=8.298454139224497e-23)\n",
      "Ttest_indResult(statistic=-10.513779851490922, pvalue=9.31380371559018e-18)\n"
     ]
    }
   ],
   "source": [
    "import scipy.stats\n",
    "print(scipy.stats.ttest_ind(results.FCNN, results.HOT))\n",
    "print(scipy.stats.ttest_ind(results.FCNN, results.EMBED))\n",
    "print(scipy.stats.ttest_ind(results.HOT, results.EMBED))"
   ]
  },
  {
   "cell_type": "markdown",
   "metadata": {},
   "source": [
    "The t-test shows that models using one-hot encoding and embedding improve the vanilla model. Furthermore, one-hot encoding performs better then embedding. I am suprised by these reults, as I was expecting embeddings to out perform one-hot encodding since embeddings learns a 2 dimensional representation of the seasons allowing a more complex understanding. Additionally experiments might be required for embeddings.\n",
    "\n",
    "When experimenting with number of previous observations to include in the model, I have observed that including additional information does not always improve results. For example, models using the past 5 observations perform better than models using the past 7 observations. I do not know what to make of this, but I will analyze this in more detail in a future notebook."
   ]
  },
  {
   "cell_type": "markdown",
   "metadata": {},
   "source": [
    "# Next Steps\n",
    "\n",
    "In the next iteration of this notebook, I will look into following models/improvements:\n",
    "* Recurrent Neural Networks (with and/or without LSTM)\n",
    "* Residual learning\n",
    "* Different fusions of model (CNN + RNN + Embedding)"
   ]
  }
 ],
 "metadata": {
  "kernelspec": {
   "display_name": "Python [default]",
   "language": "python",
   "name": "python3"
  },
  "language_info": {
   "codemirror_mode": {
    "name": "ipython",
    "version": 3
   },
   "file_extension": ".py",
   "mimetype": "text/x-python",
   "name": "python",
   "nbconvert_exporter": "python",
   "pygments_lexer": "ipython3",
   "version": "3.6.4"
  }
 },
 "nbformat": 4,
 "nbformat_minor": 2
}
