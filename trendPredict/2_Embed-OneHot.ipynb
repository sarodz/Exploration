{
 "cells": [
  {
   "cell_type": "markdown",
   "metadata": {},
   "source": [
    "# Google Trend Prediction v2: Enhancing Input Space\n",
    "\n",
    "This notebook compares the performances of vanilla fully connected neural network, one that uses one-hot encodding and one that uses embedding. I have used the Google Trend results for the word diet as my toy example."
   ]
  },
  {
   "cell_type": "code",
   "execution_count": 1,
   "metadata": {},
   "outputs": [
    {
     "data": {
      "image/png": "[encoded data removed]",
      "text/plain": [
       "<matplotlib.figure.Figure at 0x22fdb959550>"
      ]
     },
     "metadata": {},
     "output_type": "display_data"
    }
   ],
   "source": [
    "from pytrends.request import TrendReq\n",
    "import pandas as pd\n",
    "import matplotlib.pyplot as plt\n",
    "\n",
    "keyword = 'diet'\n",
    "pytrend = TrendReq(hl='de-CH')\n",
    "\n",
    "# To dowloand it from internet, I have saved a local copy \n",
    "#pytrend.build_payload(kw_list=[keyword], timeframe='all')\n",
    "#df = pytrend.interest_over_time()\n",
    "\n",
    "df = pd.read_csv('./diet.csv', names=['date', 'diet'])\n",
    "df = df[2:]\n",
    "df.diet = df.diet.astype('int64')\n",
    "df.date = pd.to_datetime(df.date)\n",
    "df = df.set_index('date')\n",
    "df2 = df[5:]\n",
    "\n",
    "df2.plot()\n",
    "plt.show()"
   ]
  },
  {
   "cell_type": "markdown",
   "metadata": {},
   "source": [
    "# Preprocessing\n",
    "\n",
    "Each version of the NN requires a different input space. Hence, I will generate a different input for each model. The one below is for the vanilla NN."
   ]
  },
  {
   "cell_type": "code",
   "execution_count": 2,
   "metadata": {
    "collapsed": true
   },
   "outputs": [],
   "source": [
    "import pandas as pd\n",
    "import numpy as np\n",
    "import torch.utils.data as data\n",
    "import torch.nn as nn\n",
    "import torch.nn.functional as F\n",
    "import torch.optim as optim\n",
    "import math\n",
    "import torch\n",
    "device = torch.device('cuda:0' if torch.cuda.is_available() else 'cpu')\n",
    "\n",
    "lag = 5\n",
    "pre_raw = df2.copy()\n",
    "\n",
    "for i in range(1, lag+1):\n",
    "    name = 'lag'+str(i)\n",
    "    pre_raw.insert(loc=i, column = name, value = pre_raw.diet.shift(i))\n",
    "\n",
    "pre_raw.insert(loc=lag+1, column= 'nextDay', value= pre_raw.diet.shift(-1))\n",
    "pre_raw = pre_raw[lag:]\n",
    "pre_raw = pre_raw[:-1]\n",
    "pre_raw = pre_raw.reset_index(drop=True)\n",
    "raw = pre_raw.iloc[:,0:lag+2].copy()\n",
    "raw = [(torch.from_numpy(raw.iloc[i,0:lag+1].values), \n",
    "        torch.from_numpy(raw.iloc[i,[lag+1]].values)) for i in range(len(raw))]"
   ]
  },
  {
   "cell_type": "markdown",
   "metadata": {},
   "source": [
    "For the rest of the models, I will enhance the input space by teaching seasons to the model. The seasons function returns a value based on the month of the trend. For example, 0 corresponds to winter, 1 corresponds to spring, and so on. "
   ]
  },
  {
   "cell_type": "code",
   "execution_count": 3,
   "metadata": {
    "collapsed": true
   },
   "outputs": [],
   "source": [
    "def seasons(date):\n",
    "    #seasons = {12:'winter', 1: 'winter', 2: 'winter',\n",
    "    #       3: 'spring', 4: 'spring', 5: 'spring',\n",
    "    #      6:'summer', 7:'summer', 8:'summer',\n",
    "    #      9:'fall', 10:'fall', 11:'fall'}\n",
    "    seasons = {12: 0, 1: 0, 2: 0,\n",
    "           3: 1, 4: 1, 5: 1,\n",
    "          6:2, 7:2, 8:2,\n",
    "          9:3, 10:3, 11:3}\n",
    "    \n",
    "    return(seasons[date.to_pydatetime().month])\n",
    "\n",
    "df3 = df2.copy()\n",
    "df3.insert(loc=1, column='season', value = [seasons(ind) for ind in df3.index])"
   ]
  },
  {
   "cell_type": "markdown",
   "metadata": {},
   "source": [
    "The below prepocessing is for the model using embedding. "
   ]
  },
  {
   "cell_type": "code",
   "execution_count": 4,
   "metadata": {},
   "outputs": [],
   "source": [
    "lag = 5\n",
    "pre_raw = df3.copy()\n",
    "\n",
    "for i in range(1, lag+1):\n",
    "    name = 'lag'+str(i)\n",
    "    pre_raw.insert(loc=i, column = name, value = pre_raw.diet.shift(i))\n",
    "\n",
    "pre_raw.insert(loc=lag+1, column= 'nextDay', value= pre_raw.diet.shift(-1))\n",
    "pre_raw = pre_raw[lag:]\n",
    "pre_raw = pre_raw[:-1]\n",
    "pre_raw = pre_raw.reset_index(drop=True)\n",
    "pre_raw = pre_raw.iloc[:,np.argsort([0, 1, 2, 3, 4, 5, 7, 6])]\n",
    "raw2 = pre_raw.iloc[:,0:lag+3].copy()\n",
    "raw2 = [(torch.from_numpy(raw2.iloc[i,0:lag+2].values), \n",
    "        torch.from_numpy(raw2.iloc[i,[lag+2]].values)) for i in range(len(raw2))]"
   ]
  },
  {
   "cell_type": "markdown",
   "metadata": {},
   "source": [
    "Below code is for the model using one-hot encodding."
   ]
  },
  {
   "cell_type": "code",
   "execution_count": 5,
   "metadata": {},
   "outputs": [
    {
     "name": "stderr",
     "output_type": "stream",
     "text": [
      "C:\\Python\\Anaconda3\\lib\\site-packages\\pandas\\core\\indexing.py:189: SettingWithCopyWarning: \n",
      "A value is trying to be set on a copy of a slice from a DataFrame\n",
      "\n",
      "See the caveats in the documentation: http://pandas.pydata.org/pandas-docs/stable/indexing.html#indexing-view-versus-copy\n",
      "  self._setitem_with_indexer(indexer, value)\n"
     ]
    }
   ],
   "source": [
    "lag = 5\n",
    "pre_raw = df3.copy()\n",
    "\n",
    "for i in range(1, lag+1):\n",
    "    name = 'lag'+str(i)\n",
    "    pre_raw.insert(loc=i, column = name, value = pre_raw.diet.shift(i))\n",
    "\n",
    "pre_raw.insert(loc=lag+1, column= 'nextDay', value= pre_raw.diet.shift(-1))\n",
    "pre_raw = pre_raw[lag:]\n",
    "pre_raw = pre_raw[:-1]\n",
    "pre_raw = pre_raw.reset_index(drop=True)\n",
    "pre_raw['winter'] = np.zeros(len(pre_raw))\n",
    "pre_raw['spring'] = np.zeros(len(pre_raw))\n",
    "pre_raw['summer'] = np.zeros(len(pre_raw))\n",
    "pre_raw['fall'] = np.zeros(len(pre_raw))\n",
    "for i in range(len(pre_raw)):\n",
    "    row = pre_raw.season.iloc[i]\n",
    "    if row == 0:\n",
    "        pre_raw.winter.iloc[i] = 1\n",
    "    elif row == 1:\n",
    "        pre_raw.spring.iloc[i] = 1\n",
    "    elif row == 2:\n",
    "        pre_raw.summer.iloc[i] = 1\n",
    "    else:\n",
    "        pre_raw.fall.iloc[i] = 1\n",
    "pre_raw= pre_raw.drop(labels=['season'], axis = 1)\n",
    "pre_raw = pre_raw.iloc[:,np.argsort([0, 1, 2, 3, 4, 5, 10, 6, 7, 8, 9])]\n",
    "raw3 = pre_raw.iloc[:,0:lag+6].copy()\n",
    "raw3 = [(torch.from_numpy(raw3.iloc[i,0:lag+5].values), \n",
    "        torch.from_numpy(raw3.iloc[i,[lag+5]].values)) for i in range(len(raw3))]"
   ]
  },
  {
   "cell_type": "markdown",
   "metadata": {},
   "source": [
    "# Models\n",
    "\n",
    "The script for the fully connected network in this motebook is more flexible allowing the user to define as many layers as they want using the lin_size paramater. All the models use fully connected networks. The only difference for embeddings is, pyTorch's embedding function is used to look up values corresponding to the season and these values are adjusted at each iteration of the algorithm. \n",
    "\n",
    "To compare the performance of these models, I will repeat training and prediction 50 times to minimize the impact of random initializations on the results."
   ]
  },
  {
   "cell_type": "code",
   "execution_count": 6,
   "metadata": {
    "collapsed": true
   },
   "outputs": [],
   "source": [
    "class SimpleNet(nn.Module):\n",
    "    def __init__(self, lin_size=[6, 20, 15, 1]):\n",
    "        super().__init__()\n",
    "        self.lins = nn.ModuleList([nn.Linear(lin_size[x], lin_size[x+1]) \n",
    "                                   for x,_ in enumerate(lin_size) if x < len(lin_size)-2])\n",
    "        self.out = nn.Linear(lin_size[-2], lin_size[-1])\n",
    "        \n",
    "    def forward(self, x):\n",
    "        for l in self.lins:\n",
    "            x = F.relu(l(x))\n",
    "        \n",
    "        x = self.out(x)\n",
    "        return x"
   ]
  },
  {
   "cell_type": "code",
   "execution_count": 7,
   "metadata": {
    "collapsed": true
   },
   "outputs": [],
   "source": [
    "class SimpleNetwithEmbed(nn.Module):\n",
    "    def __init__(self, cont_idx, cat_idx, embed_detail, lin_size):\n",
    "        super().__init__()\n",
    "        self.embs = nn.ModuleList([nn.Embedding(c, s) for c,s in embed_detail])\n",
    "        for emb in self.embs:\n",
    "            x = emb.weight.data\n",
    "            sc = 2/(x.size(1)+1)\n",
    "            x.uniform_(-sc, sc)\n",
    "    \n",
    "        self.lins = nn.ModuleList([nn.Linear(lin_size[x], lin_size[x+1]) \n",
    "                                   for x,_ in enumerate(lin_size) if x < len(lin_size)-2])\n",
    "        self.out = nn.Linear(lin_size[-2], lin_size[-1])\n",
    "        \n",
    "        self.bn = nn.BatchNorm1d(len(cont_idx))\n",
    "        self.cont_idx = cont_idx\n",
    "        self.cat_idx = cat_idx\n",
    "                \n",
    "    def forward(self, x):\n",
    "        x_ = x[:,self.cont_idx]\n",
    "        x_ = self.bn(x_)\n",
    "        x_cat = x[:,self.cat_idx]\n",
    "        \n",
    "        embs = (e(x_cat[:,i].type(torch.long)) for i,e in enumerate(self.embs))\n",
    "        for e in embs:\n",
    "            x_ = torch.cat([x_, e], 1)\n",
    "        \n",
    "        for l in self.lins:\n",
    "            x_ = F.relu(l(x_))\n",
    "        \n",
    "        x_ = self.out(x_)\n",
    "        return x_"
   ]
  },
  {
   "cell_type": "markdown",
   "metadata": {},
   "source": [
    "The embeddings are initialized with values approximately between -1 and 1 (this range changes based on the dimensions of the embedding) and Google trend values are disproportionately larger compared to the embeddings, hence these values need to be batch normalized for gradients of the model to allow learning from the data set. "
   ]
  },
  {
   "cell_type": "code",
   "execution_count": 8,
   "metadata": {
    "collapsed": true
   },
   "outputs": [],
   "source": [
    "def experiment(lag, model, train_loader, test_loader, opt, loss):\n",
    "    # train\n",
    "    for epoch in range(num_epochs):\n",
    "        running_loss = 0.0\n",
    "        tot = 0\n",
    "        for i, (x, y) in enumerate(train_loader):\n",
    "            x = x.float().to(device)\n",
    "            y = y.float().to(device)\n",
    "\n",
    "            # Forward pass\n",
    "            output = model(x)\n",
    "            l = loss(output, y)\n",
    "\n",
    "            # Backward and optimize\n",
    "            opt.zero_grad()\n",
    "            l.backward()\n",
    "            opt.step()\n",
    "        \n",
    "            running_loss += l.item()\n",
    "            tot += 1\n",
    "        #print('[%d, %5d] loss: %.3f' % (epoch + 1, i + 1, running_loss/tot  ))\n",
    "\n",
    "    names = ['diet']\n",
    "    names.extend(['lag'+str(i) for i in range(1, lag+1)])\n",
    "    names.extend(['prediction', 'actual'])\n",
    "\n",
    "    result = pd.DataFrame(columns=names)\n",
    "    model.eval()  # eval mode (batchnorm uses moving mean/variance instead of mini-batch mean/variance)\n",
    "    with torch.no_grad():\n",
    "        correct = 0\n",
    "        total = 0\n",
    "        for x, y in test_loader:\n",
    "            x = x.float().to(device)\n",
    "            local = x.cpu().numpy()\n",
    "            y = y.float().to(device)            \n",
    "            outputs = model(x)\n",
    "\n",
    "            temp = pd.DataFrame(columns=names)\n",
    "            temp['diet'] = local[:,0]\n",
    "            for i in range(1, lag+1):\n",
    "                name = 'lag'+str(i)\n",
    "                temp[name] = local[:,i]\n",
    "\n",
    "            temp['actual'] = y.cpu().numpy()\n",
    "            temp['prediction'] = outputs.cpu().numpy()\n",
    "            result = result.append(temp)\n",
    "    return(result)        "
   ]
  },
  {
   "cell_type": "code",
   "execution_count": 23,
   "metadata": {
    "collapsed": true
   },
   "outputs": [],
   "source": [
    "num_epochs=20\n",
    "batch_size=25\n",
    "learning_rate=0.04\n",
    "repeat = 50\n",
    "results = pd.DataFrame(columns=['Vanilla', 'OneHot', 'Embedding'])\n",
    "train_loader = data.DataLoader(dataset=raw[0:120], batch_size=batch_size, shuffle=True)\n",
    "test_loader = data.DataLoader(dataset=raw[120:170], batch_size=1, shuffle=False)\n",
    "\n",
    "for i in range(repeat):\n",
    "    temp = pd.DataFrame(columns=['Vanilla', 'OneHot', 'Embedding'])\n",
    "    \n",
    "    net = SimpleNet(lin_size=[6, 20, 20, 1]).to(device)\n",
    "    opt=optim.Adam(net.parameters(), lr=learning_rate)\n",
    "    loss=F.mse_loss\n",
    "    \n",
    "    out = experiment(lag= lag, \n",
    "               model=net, \n",
    "               train_loader=train_loader, \n",
    "               test_loader=test_loader, \n",
    "               opt=opt, \n",
    "               loss=loss)\n",
    "    \n",
    "    temp.loc[0] = [np.mean(abs(out.prediction - out.actual)), None, None]\n",
    "    results = results.append(temp)\n",
    "\n",
    "results = results.reset_index(drop=True);"
   ]
  },
  {
   "cell_type": "code",
   "execution_count": 24,
   "metadata": {
    "collapsed": true
   },
   "outputs": [],
   "source": [
    "num_epochs=20\n",
    "batch_size=25\n",
    "learning_rate=0.04\n",
    "train_loader = data.DataLoader(dataset=raw2[0:120], batch_size=batch_size, shuffle=True)\n",
    "test_loader = data.DataLoader(dataset=raw2[120:170], batch_size=1, shuffle=False)\n",
    "\n",
    "for i in range(repeat):\n",
    "    temp = pd.DataFrame(columns=['Vanilla', 'OneHot', 'Embedding'])\n",
    "    \n",
    "    net = SimpleNetwithEmbed(cont_idx=list(range(0,6)), \n",
    "                          cat_idx=[6], \n",
    "                          embed_detail=[(4,2)], \n",
    "                          lin_size=[8, 20, 20, 1]).to(device)\n",
    "    opt=optim.Adam(net.parameters(), lr=learning_rate)\n",
    "    loss=F.mse_loss\n",
    "    \n",
    "    out = experiment(lag= lag, \n",
    "               model=net, \n",
    "               train_loader=train_loader, \n",
    "               test_loader=test_loader, \n",
    "               opt=opt, \n",
    "               loss=loss)\n",
    "    \n",
    "    results.Embedding[i] = np.mean(abs(out.prediction - out.actual))"
   ]
  },
  {
   "cell_type": "code",
   "execution_count": 25,
   "metadata": {
    "collapsed": true
   },
   "outputs": [],
   "source": [
    "num_epochs=20\n",
    "batch_size=25\n",
    "learning_rate=0.04\n",
    "train_loader = data.DataLoader(dataset=raw3[0:120], batch_size=batch_size, shuffle=True)\n",
    "test_loader = data.DataLoader(dataset=raw3[120:170], batch_size=1, shuffle=False)\n",
    "\n",
    "for i in range(repeat):\n",
    "    temp = pd.DataFrame(columns=['Vanilla', 'OneHot', 'Embedding'])\n",
    "    \n",
    "    net = SimpleNet(lin_size=[10, 20, 20, 1]).to(device)\n",
    "    opt=optim.Adam(net.parameters(), lr=learning_rate)\n",
    "    loss=F.mse_loss\n",
    "    \n",
    "    out = experiment(lag= lag, \n",
    "               model=net, \n",
    "               train_loader=train_loader, \n",
    "               test_loader=test_loader, \n",
    "               opt=opt, \n",
    "               loss=loss)\n",
    "    \n",
    "    results.OneHot[i] = np.mean(abs(out.prediction - out.actual))"
   ]
  },
  {
   "cell_type": "code",
   "execution_count": 26,
   "metadata": {},
   "outputs": [
    {
     "data": {
      "image/png": "[encoded data removed]",
      "text/plain": [
       "<matplotlib.figure.Figure at 0x22fdee809e8>"
      ]
     },
     "metadata": {},
     "output_type": "display_data"
    }
   ],
   "source": [
    "results.boxplot()\n",
    "plt.show()"
   ]
  },
  {
   "cell_type": "code",
   "execution_count": 27,
   "metadata": {},
   "outputs": [
    {
     "name": "stdout",
     "output_type": "stream",
     "text": [
      "Ttest_indResult(statistic=11.120957683938046, pvalue=4.5546002629645928e-19)\n",
      "Ttest_indResult(statistic=29.126851393966291, pvalue=4.6931991518768068e-50)\n",
      "Ttest_indResult(statistic=16.483938740874553, pvalue=5.1859915928431048e-30)\n"
     ]
    }
   ],
   "source": [
    "import scipy.stats\n",
    "print(scipy.stats.ttest_ind(results.Vanilla, results.OneHot))\n",
    "print(scipy.stats.ttest_ind(results.Vanilla, results.Embedding))\n",
    "print(scipy.stats.ttest_ind(results.OneHot, results.Embedding))"
   ]
  },
  {
   "cell_type": "markdown",
   "metadata": {},
   "source": [
    "The t-test shows that each model's true mean is statistically different from one other and the boxplot visually confirms that these differences are in terms of a lower RMSE. The model with embeddings have the best result because unlike one-hot encodding we learn a 2 dimensional representation of the seasons rather then the 1 dimensional representation of one-hot encodding. \n",
    "\n",
    "Embeddings with additional dimensions have been experimented with but they did not yield better results, hence they are not reported.      "
   ]
  },
  {
   "cell_type": "markdown",
   "metadata": {},
   "source": [
    "# Next Steps\n",
    "\n",
    "In the next iteration of this notebook, I will look into following models/improvements:\n",
    "* Recurrent Neural Networks (with and without LSTM)\n",
    "* Enhance CNN using Residuals\n",
    "* RNN + CNN"
   ]
  }
 ],
 "metadata": {
  "kernelspec": {
   "display_name": "Python 3",
   "language": "python",
   "name": "python3"
  },
  "language_info": {
   "codemirror_mode": {
    "name": "ipython",
    "version": 3
   },
   "file_extension": ".py",
   "mimetype": "text/x-python",
   "name": "python",
   "nbconvert_exporter": "python",
   "pygments_lexer": "ipython3",
   "version": "3.6.5"
  }
 },
 "nbformat": 4,
 "nbformat_minor": 2
}
